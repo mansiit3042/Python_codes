{
 "cells": [
  {
   "cell_type": "markdown",
   "metadata": {
    "colab_type": "text",
    "id": "wNRNTbrsc53d"
   },
   "source": [
    "# If - elif - else statement"
   ]
  },
  {
   "cell_type": "code",
   "execution_count": 3,
   "metadata": {
    "colab": {},
    "colab_type": "code",
    "id": "MiPfTnBycxNa"
   },
   "outputs": [
    {
     "name": "stdout",
     "output_type": "stream",
     "text": [
      "Enter any Number between 0 and 9: 7\n",
      "Entered number 7 is for Seven\n"
     ]
    }
   ],
   "source": [
    "#W. A P. which takes one number from 0 to 9 from the user and prints it in the word. And if the word is not from 0 to 9 then\n",
    "#it should print that number is outside of the range and program should exit.\n",
    "# For exapmple:- \n",
    "# input = 1\n",
    "# output = one\n",
    "\n",
    "num = int(input('Enter any Number between 0 and 9: '))\n",
    "if(num==1):\n",
    "    print(f'Entered number {num} is for One')\n",
    "elif(num==2):\n",
    "    print(f'Entered number {num} is for Two')\n",
    "elif(num==3):\n",
    "    print(f'Entered number {num} is for Three')\n",
    "elif(num==4):\n",
    "    print(f'Entered number {num} is for Four')\n",
    "elif(num==5):\n",
    "    print(f'Entered number {num} is for Five')\n",
    "elif(num==6):\n",
    "    print(f'Entered number {num} is for Six')\n",
    "elif(num==7):\n",
    "    print(f'Entered number {num} is for Seven')\n",
    "elif(num==8):\n",
    "    print(f'Entered number {num} is for Eight')\n",
    "elif(num==9):\n",
    "    print(f'Entered number {num} is for Nine')\n",
    "else:\n",
    "    print(f'Entered number {num} is outside of the range.')\n"
   ]
  },
  {
   "cell_type": "code",
   "execution_count": 45,
   "metadata": {
    "colab": {},
    "colab_type": "code",
    "id": "vEMNOv9zdA39"
   },
   "outputs": [
    {
     "name": "stdout",
     "output_type": "stream",
     "text": [
      "Select the choice of operation to be done:(Add-1/subtract-2/multiply-3/divide-4/quotient-5/remainder-6/power-7/exit-8): 5\n",
      "Enter any number: 4\n",
      "Enter any number: 6\n",
      "Quotient after division of 4.0 and 6.0 = 0.0\n"
     ]
    }
   ],
   "source": [
    "#W. A P. to implement calculator but the operation to be done and two numbers will be taken as input from user:-\n",
    "#Operation console should show below:-\n",
    "#     Please select any one operation from below:-\n",
    "#         * To add enter 1\n",
    "#         * to subtract enter 2\n",
    "#         * To multiply enter 3\n",
    "#         * To divide enter 4\n",
    "#         * To divide and find quotient enter 5\n",
    "#         * To divide and find remainder enter 6\n",
    "#         * To divide and find num1 to the power of num2 enter 7\n",
    "#         * To Come out of the program enter 8\n",
    "\n",
    "operation = int(input('Select the choice of operation to be done:(Add-1/subtract-2/multiply-3/divide-4/quotient-5/remainder-6/power-7/exit-8): '))\n",
    "\n",
    "if(operation==1):\n",
    "    num1 = float(input('Enter any number: '))\n",
    "    num2 = float(input('Enter any number: '))\n",
    "    print(f'Addition of {num1} and {num2} = {num1+num2}')\n",
    "    \n",
    "elif(operation==2):\n",
    "    num1 = float(input('Enter any number: '))\n",
    "    num2 = float(input('Enter any number: '))\n",
    "    print(f'Subtraction of {num1} and {num2} = {num1-num2}')\n",
    "    \n",
    "elif(operation==3):\n",
    "    num1 = float(input('Enter any number: '))\n",
    "    num2 = float(input('Enter any number: '))\n",
    "    print(f'Multiplication of {num1} and {num2} = {num1*num2}')\n",
    "    \n",
    "elif(operation==4):\n",
    "    num1 = float(input('Enter any number: '))\n",
    "    num2 = float(input('Enter any number: '))\n",
    "    print(f'Division of {num1} and {num2} = {num1/num2}')\n",
    "    \n",
    "elif(operation==5):\n",
    "    num1 = float(input('Enter any number: '))\n",
    "    num2 = float(input('Enter any number: '))\n",
    "    print(f'Quotient after division of {num1} and {num2} = {num1//num2}')\n",
    "\n",
    "elif(operation==6):\n",
    "    num1 = float(input('Enter any number: '))\n",
    "    num2 = float(input('Enter any number: '))\n",
    "    print(f'Remainder after division of {num1} and {num2} = {num1%num2}')\n",
    "\n",
    "elif(operation==7):\n",
    "    num1 = float(input('Enter any number: '))\n",
    "    num2 = float(input('Enter any number: '))\n",
    "    print(f'{num1} to the power of {num2} = {num1**num2}')\n",
    "\n",
    "elif(operation==8):\n",
    "    print('Program Ended.')\n",
    "\n",
    "else:\n",
    "    print(f'Unable to find any operation with the choice {operation} Entered.')"
   ]
  },
  {
   "cell_type": "code",
   "execution_count": 22,
   "metadata": {
    "colab": {},
    "colab_type": "code",
    "id": "1e2gwYLqdC1s"
   },
   "outputs": [
    {
     "name": "stdout",
     "output_type": "stream",
     "text": [
      "Enter any Year: 1700\n",
      "Entered Year is not a Leap Year.\n"
     ]
    }
   ],
   "source": [
    "#W A P to check whether a year entered by user is an leap year or not?\n",
    "#Check with below input:-\n",
    "    #leap year:- 2012, 1968, 2004, 1200, 1600,2400\n",
    "    #Non-lear year:- 1971, 2006, 1700,1800,1900\n",
    "num = int(input('Enter any Year: '))\n",
    "if (num % 400==0) or (num % 4==0 and num % 100!=0):\n",
    "    print(f'Entered Year is a Leap Year.')\n",
    "else:\n",
    "    print(f'Entered Year is not a Leap Year.')\n"
   ]
  },
  {
   "cell_type": "code",
   "execution_count": 8,
   "metadata": {
    "colab": {},
    "colab_type": "code",
    "id": "_tpXv1EtdEre"
   },
   "outputs": [
    {
     "name": "stdout",
     "output_type": "stream",
     "text": [
      "Enter any number: 4\n",
      "4 is even\n"
     ]
    }
   ],
   "source": [
    "#W A P which takes one number from the user and checks whether it is an even or odd number?, If it even then prints number is \n",
    "#even number else prints that number is odd number.\n",
    "num=int(input('Enter any number: '))\n",
    "if (num % 2)==0:\n",
    "    print(f'{num} is even')\n",
    "else:\n",
    "    print(f'{num} is odd')\n"
   ]
  },
  {
   "cell_type": "code",
   "execution_count": 52,
   "metadata": {
    "colab": {},
    "colab_type": "code",
    "id": "Q1HumymCdG6i"
   },
   "outputs": [
    {
     "name": "stdout",
     "output_type": "stream",
     "text": [
      "Enter first number: 23\n",
      "Enter second number: 4\n",
      "Num1->23 is greater than Num2->4\n",
      "Num1->23 is equal to Num2->4\n",
      "23 is greater than 4\n"
     ]
    }
   ],
   "source": [
    "#W A P which takes two numbers from the user and prints below output:-\n",
    "#     1. num1 is greater than num2 if num1 is greater than num2\n",
    "#     2. num1 is smaller than num2 if num1 is smaller than num2\n",
    "#     3. num1 is equal to num2 if num1 and num2 are equal\n",
    "\n",
    "#Note:- 1. Do this problem using if - else \n",
    "#       2. Do this using ternary operator\n",
    "\n",
    "num1 = int(input('Enter first number: '))\n",
    "num2 = int(input('Enter second number: '))\n",
    "if(num1>num2):\n",
    "    print(f'Num1->{num1} is greater than Num2->{num2}')\n",
    "if(num1<num2):\n",
    "    print(f'Num1->{num1} is smaller than Num2->{num2}')\n",
    "else:\n",
    "    print(f'Num1->{num1} is equal to Num2->{num2}')\n",
    "\n",
    "\n",
    "# ternary operator\n",
    "    \n",
    "print(f'{num1} is greater than {num2}') if (num1 > num2) \\\n",
    "else print(f'{num1} is smaller than {num2}') if (num1<num2) \\\n",
    "else print(f'{num1} is equal to {num2}')\n"
   ]
  },
  {
   "cell_type": "code",
   "execution_count": null,
   "metadata": {
    "colab": {},
    "colab_type": "code",
    "id": "LR6TVB-DdOPf"
   },
   "outputs": [],
   "source": [
    "#W A P which takes three numbers from the user and prints below output:-\n",
    "#     1. num1 is greater than num2 and num3 if num1 is greater than num2 and num3\n",
    "#     2. num2 is greater than num1 and num3 if num2 is greater than num1 and num3\n",
    "#     3. num3 is greater than num1 and num2 if num3 is greater than num1 and num2\n",
    "\n",
    "#Note:- 1. Do this problem using if - elif - else \n",
    "#       2. Do this using ternary operator\n",
    "\n",
    "# a = a if a>b else b\n",
    "# expr if cond1 else expr2 if cond2 else expr3\n",
    "\n",
    "num1 = int(input('Enter first value: '))\n",
    "num2 = int(input('Enter second value: '))\n",
    "num3 = int(input('Enter third value: '))\n",
    "if(num1>num2 and num1>num3):\n",
    "    print(f'Num1->{num1} is greater than Num2->{num2} and Num3->{num3}')\n",
    "elif(num2>num1 and num2>num3):\n",
    "    print(f'Num2->{num2} is greater than Num1->{num1} and Num3->{num3}')\n",
    "else:\n",
    "    print(f'Num3->{num3} is greater than Num1->{num1} and Num2->{num2}')\n",
    "    \n",
    "# ternary operator\n",
    "\n",
    "print(f'Num1->{num1} is greater than Num2->{num2} and Num3->{num3}') if (num1>num2 and num1>num3) \\\n",
    "else print(f'Num2->{num2} is greater than Num1->{num1} and Num3->{num3}') if (num2>num1 and num2>num3) \\\n",
    "else print(f'Num3->{num3} is greater than Num1->{num1} and Num2->{num2}')\n"
   ]
  },
  {
   "cell_type": "markdown",
   "metadata": {
    "colab_type": "text",
    "id": "IoOLQMUGdSox"
   },
   "source": [
    "# Loops - for loop, while loop"
   ]
  },
  {
   "cell_type": "code",
   "execution_count": 3,
   "metadata": {
    "colab": {},
    "colab_type": "code",
    "id": "9K23Uld8dQfA"
   },
   "outputs": [
    {
     "name": "stdout",
     "output_type": "stream",
     "text": [
      "Length of the String is 55\n"
     ]
    }
   ],
   "source": [
    "#Write a Python program to find the length of the my_str using loop:-\n",
    "\n",
    "#Input:- 'Write a Python program to find the length of the my_str'\n",
    "#Output:- 55\n",
    "\n",
    "my_str = 'Write a Python program to find the length of the my_str'\n",
    "count = 0\n",
    "for var in my_str:\n",
    "    count = count+1\n",
    "print('Length of the String is',count)\n",
    "    "
   ]
  },
  {
   "cell_type": "code",
   "execution_count": 2,
   "metadata": {
    "colab": {},
    "colab_type": "code",
    "id": "bp6AcqTsdYxy"
   },
   "outputs": [
    {
     "name": "stdout",
     "output_type": "stream",
     "text": [
      "9\n"
     ]
    }
   ],
   "source": [
    "#Write a Python program to find the total number of times letter 'p' is appeared in the below string using loop:-\n",
    "    \n",
    "#Input:- 'peter piper picked a peck of pickled peppers.\\n'\n",
    "#Output:- 9\n",
    "\n",
    "my_str = 'peter piper picked a peck of pickled peppers.'\n",
    "count = 0\n",
    "for var in my_str:\n",
    "    if var == 'p':\n",
    "        count += 1\n",
    "print(count)"
   ]
  },
  {
   "cell_type": "code",
   "execution_count": 5,
   "metadata": {
    "colab": {},
    "colab_type": "code",
    "id": "xvxSBhTJdav1"
   },
   "outputs": [
    {
     "name": "stdout",
     "output_type": "stream",
     "text": [
      "0\n",
      "6\n",
      "8\n",
      "12\n",
      "21\n",
      "29\n",
      "37\n",
      "39\n",
      "40\n"
     ]
    }
   ],
   "source": [
    "#Write a Python Program, to print all the indexes of all occurences of letter 'p' appeared in the string using loop:-\n",
    "    \n",
    "#Input:- 'peter piper picked a peck of pickled peppers.'\n",
    "#Output:- \n",
    "# 0\n",
    "# 6\n",
    "# 8\n",
    "# 12\n",
    "# 21\n",
    "# 29\n",
    "# 37\n",
    "# 39\n",
    "# 40\n",
    "\n",
    "my_str = 'peter piper picked a peck of pickled peppers.'\n",
    "for var in range(len(my_str)):\n",
    "    if my_str[var]=='p':\n",
    "        print(var)"
   ]
  },
  {
   "cell_type": "code",
   "execution_count": 1,
   "metadata": {
    "colab": {},
    "colab_type": "code",
    "id": "79L_feMadbmw"
   },
   "outputs": [
    {
     "name": "stdout",
     "output_type": "stream",
     "text": [
      "['peter', 'piper', 'picked', 'a', 'peck', 'of', 'pickled', 'peppers']\n"
     ]
    }
   ],
   "source": [
    "#Write a python program to find below output using loop:-\n",
    "\n",
    "#Input:- 'peter piper picked a peck of pickled peppers.'\n",
    "#Output:- ['peter', 'piper', 'picked', 'a', 'peck', 'of', 'pickled', 'peppers']\n",
    "\n",
    "inp_str = 'peter piper picked a peck of pickled peppers.'\n",
    "out_str = ''\n",
    "out_lst = []\n",
    "for i in inp_str:\n",
    "    if i == ' ' or i == '.':\n",
    "        out_lst.append(out_str)\n",
    "        out_str = ''\n",
    "    else:\n",
    "        out_str = out_str + i\n",
    "print(out_lst)       \n"
   ]
  },
  {
   "cell_type": "code",
   "execution_count": 5,
   "metadata": {
    "colab": {},
    "colab_type": "code",
    "id": "vzs5AJ53deVS"
   },
   "outputs": [
    {
     "name": "stdout",
     "output_type": "stream",
     "text": [
      " peppers pickled of peck a picked piper peter\n"
     ]
    }
   ],
   "source": [
    "#Write a python program to find below output using loop:-\n",
    "\n",
    "#Input:- 'peter piper picked a peck of pickled peppers.'\n",
    "#Output:- 'peppers pickled of peck a picked piper peter'\n",
    "\n",
    "inp_str = 'peter piper picked a peck of pickled peppers.'\n",
    "out_str = ''\n",
    "out_lst = []\n",
    "for i in inp_str:\n",
    "    if i == ' ' or i == '.':\n",
    "        out_lst.append(out_str)\n",
    "        out_str = ''\n",
    "    else:\n",
    "        out_str = out_str + i\n",
    "res = ''\n",
    "for i in range(-1, -len(out_lst)-1, -1):\n",
    "    res = res + ' '+ out_lst[i]\n",
    "print(res)\n",
    "\n"
   ]
  },
  {
   "cell_type": "code",
   "execution_count": 16,
   "metadata": {
    "colab": {},
    "colab_type": "code",
    "id": "i-HP7DrCdhwS"
   },
   "outputs": [
    {
     "name": "stdout",
     "output_type": "stream",
     "text": [
      "The input String =  peter piper picked a peck of pickled peppers.\n",
      "The input String =  .sreppep delkcip fo kcep a dekcip repip retep\n"
     ]
    }
   ],
   "source": [
    "#Write a python program to find below output using loop:-\n",
    "\n",
    "#Input:- 'peter piper picked a peck of pickled peppers.'\n",
    "#Output:- '.sreppep delkcip fo kcep a dekcip repip retep'\n",
    "\n",
    "inp_str = 'peter piper picked a peck of pickled peppers.'\n",
    "out_str = ''\n",
    "\n",
    "for i in inp_str:\n",
    "    out_str = i + out_str\n",
    "print(\"The input String = \",inp_str)\n",
    "print(\"The input String = \",out_str)"
   ]
  },
  {
   "cell_type": "code",
   "execution_count": 17,
   "metadata": {
    "colab": {},
    "colab_type": "code",
    "id": "3rt6p0ytdkq0"
   },
   "outputs": [
    {
     "name": "stdout",
     "output_type": "stream",
     "text": [
      "retep repip dekcip a kcep fo delkcip sreppep \n"
     ]
    }
   ],
   "source": [
    "#Write a python program to find below output using loop:-\n",
    "\n",
    "#Input:- 'peter piper picked a peck of pickled peppers.'\n",
    "#Output:- 'retep repip dekcip a kcep fo delkcip sreppep'\n",
    "\n",
    "my_str = 'peter piper picked a peck of pickled peppers.'\n",
    "commit = ''\n",
    "out_str = ''\n",
    "for i in my_str:\n",
    "    if i == ' ' or i == '.':\n",
    "        out_str = out_str+commit[::-1] + ' '\n",
    "        commit = ''\n",
    "    else:\n",
    "        commit += i\n",
    "print(out_str)\n",
    "    "
   ]
  },
  {
   "cell_type": "code",
   "execution_count": 21,
   "metadata": {
    "colab": {},
    "colab_type": "code",
    "id": "HdlAWgT2dnKO"
   },
   "outputs": [
    {
     "name": "stdout",
     "output_type": "stream",
     "text": [
      "The input String =  peter piper picked a peck of pickled peppers.\n",
      "The input String =  Peter Piper Picked A Peck Of Pickled Peppers.\n"
     ]
    }
   ],
   "source": [
    "#Write a python program to find below output using loop:-\n",
    "\n",
    "#Input:- 'peter piper picked a peck of pickled peppers.'\n",
    "#Output:- 'Peter Piper Picked A Peck Of Pickled Peppers'\n",
    "\n",
    "inp_str = 'peter piper picked a peck of pickled peppers.'\n",
    "out_str = ''\n",
    "\n",
    "for i in inp_str:\n",
    "    out_str = inp_str.title()\n",
    "print(\"The input String = \",inp_str)\n",
    "print(\"The input String = \",out_str)"
   ]
  },
  {
   "cell_type": "code",
   "execution_count": 22,
   "metadata": {
    "colab": {},
    "colab_type": "code",
    "id": "OthUuacodrNl"
   },
   "outputs": [
    {
     "name": "stdout",
     "output_type": "stream",
     "text": [
      "The input String =  Peter Piper Picked A Peck Of Pickled Peppers.\n",
      "The input String =  Peter piper picked a peck of pickled peppers.\n"
     ]
    }
   ],
   "source": [
    "#Write a python program to find below output using loop:-\n",
    "\n",
    "#Input:- 'Peter Piper Picked A Peck Of Pickled Peppers.'\n",
    "#Output:- 'Peter piper picked a peck of pickled peppers'\n",
    "\n",
    "inp_str = 'Peter Piper Picked A Peck Of Pickled Peppers.'\n",
    "out_str = ''\n",
    "for i in inp_str:\n",
    "    out_str = inp_str.capitalize()\n",
    "print(\"The input String = \",inp_str)\n",
    "print(\"The input String = \",out_str)"
   ]
  },
  {
   "cell_type": "code",
   "execution_count": 13,
   "metadata": {
    "colab": {
     "base_uri": "https://localhost:8080/",
     "height": 34
    },
    "colab_type": "code",
    "id": "scmDJE-ldsI9",
    "outputId": "4b1d1979-9f4a-4bc6-c505-b88b1bbd4d5d"
   },
   "outputs": [
    {
     "name": "stdout",
     "output_type": "stream",
     "text": [
      "29\n"
     ]
    }
   ],
   "source": [
    "#Write a python program to implement index method using loop. If sub_str is found in my_str then it will print the index\n",
    "# of first occurrence of first character of matching string in my_str:-\n",
    "\n",
    "#Input:- my_str = 'Peter Piper Picked A Peck Of Pickled Peppers.', sub_str = 'Pickl'\n",
    "#Output:- 29\n",
    "\n",
    "my_str = 'Peter Piper Picked A Peck Of Pickled Peppers.'\n",
    "sub_str = 'Pickl'\n",
    "out_str = ''\n",
    "\n",
    "for i in my_str:\n",
    "    out_str = my_str.index(sub_str)\n",
    "print(out_str)\n"
   ]
  },
  {
   "cell_type": "code",
   "execution_count": 10,
   "metadata": {
    "colab": {},
    "colab_type": "code",
    "id": "Kq_fwdb_dvYE"
   },
   "outputs": [
    {
     "name": "stdout",
     "output_type": "stream",
     "text": [
      "The input String =  Peter Piper Picked A Peck Of Pickled Peppers.\n",
      "The input String =  Peter Piper Picked A Pack Of Pickled Peppers.\n"
     ]
    }
   ],
   "source": [
    "#Write a python program to implement replace method using loop. If sub_str is found in my_str then it will replace the first \n",
    "#occurrence of sub_str with new_str else it will will print sub_str not found:-\n",
    "\n",
    "#Input:- my_str = 'Peter Piper Picked A Peck Of Pickled Peppers.', sub_str = 'Peck', new_str = 'Pack'\n",
    "#Output:- 'Peter Piper Picked A Pack Of Pickled Peppers.'\n",
    "\n",
    "inp_str = 'Peter Piper Picked A Peck Of Pickled Peppers.'\n",
    "sub_str = 'Peck'\n",
    "new_str = 'Pack'\n",
    "out_str = ''\n",
    "\n",
    "for i in inp_str:\n",
    "    out_str = inp_str.replace(sub_str,new_str)\n",
    "print(\"The input String = \",inp_str)\n",
    "print(\"The input String = \",out_str)"
   ]
  },
  {
   "cell_type": "code",
   "execution_count": 8,
   "metadata": {
    "colab": {},
    "colab_type": "code",
    "id": "4Qes5D0cdyd1"
   },
   "outputs": [
    {
     "name": "stdout",
     "output_type": "stream",
     "text": [
      "*********************Peck********************"
     ]
    }
   ],
   "source": [
    "#Write a python program to find below output (implements rjust and ljust) using loop:-\n",
    "\n",
    "#Input:- 'Peter Piper Picked A Peck Of Pickled Peppers.', sub_str = 'Peck', \n",
    "#Output:- '*********************Peck********************'\n",
    "\n",
    "my_str = 'Peter Piper Picked A Peck Of Pickled Peppers.'\n",
    "sub_str = 'Peck'\n",
    "ind = my_str.rfind(sub_str)\n",
    "\n",
    "for i in range(ind):\n",
    "    print('*',end='')\n",
    "for i in range(len(sub_str)):\n",
    "    print(sub_str[i],end='')\n",
    "for i in range(ind+len(sub_str),len(my_str)):\n",
    "    print('*', end='')"
   ]
  },
  {
   "cell_type": "code",
   "execution_count": 9,
   "metadata": {
    "colab": {},
    "colab_type": "code",
    "id": "DsOrb07Od0lR"
   },
   "outputs": [
    {
     "name": "stdout",
     "output_type": "stream",
     "text": [
      "\n",
      "['This ', 'is', ' Python class']\n"
     ]
    }
   ],
   "source": [
    "#Write a python program to find below output using loop:-\n",
    "\n",
    "#Input:- 'This is Python class', sep = 'is', \n",
    "#Output:- ['This', 'is', 'Python class']\n",
    "\n",
    "inp = 'This is Python class'\n",
    "sep = 'is'\n",
    "\n",
    "ind = inp.rfind(sep)\n",
    "\n",
    "lst = []\n",
    "str1 = ''\n",
    "\n",
    "print()\n",
    "\n",
    "if ind == -1:\n",
    "    print('sub string not found')\n",
    "else:\n",
    "    for i in range(ind):\n",
    "        str1 = str1 + inp[i]\n",
    "    lst.append(str1)\n",
    "    str1 = ''\n",
    "    for i in range(len(sep)):\n",
    "        str1 = str1 + sep[i]\n",
    "    lst.append(str1)\n",
    "    str1 = ''\n",
    "    for i in range(ind+len(sep),len(inp)):\n",
    "        str1 = str1 + inp[i]\n",
    "    lst.append(str1)\n",
    "\n",
    "print(lst)\n"
   ]
  },
  {
   "cell_type": "code",
   "execution_count": 30,
   "metadata": {
    "colab": {},
    "colab_type": "code",
    "id": "jRnBVufmd2Ay"
   },
   "outputs": [
    {
     "name": "stdout",
     "output_type": "stream",
     "text": [
      "R{vjqp\n",
      "Rwvfql\n",
      "R{vfml\n"
     ]
    }
   ],
   "source": [
    "#Write a python program which takes one input string from user and encode it in below format:-\n",
    "    # 1. #Input:- 'Python'\n",
    "       #Output:- 'R{vjqp'\n",
    "        \n",
    "my_str = 'Python'\n",
    "out_str = ''\n",
    "for i in range(len(my_str)):\n",
    "    out_str += (chr(ord(my_str[i])+2))\n",
    "print(out_str)\n",
    "\n",
    "    # 2. #Input:- 'Python'\n",
    "       #Output:- 'Rwvfql'\n",
    "        \n",
    "out_str1 = ''\n",
    "for i in range(len(my_str)):\n",
    "    if i%2 == 0:\n",
    "        out_str1 += (chr(ord(my_str[i])+2))\n",
    "    else:\n",
    "        out_str1 += (chr(ord(my_str[i])-2))\n",
    "print(out_str1)\n",
    "        \n",
    "        \n",
    "        \n",
    "    # 3. #Input:- 'Python'\n",
    "       #Output:- 'R{vkfml'\n",
    "\n",
    "out_str2 = ''\n",
    "for i in range(len(my_str)):\n",
    "        if i < (len(my_str)/2):\n",
    "            out_str2 += (chr(ord(my_str[i])+2))\n",
    "        else:\n",
    "            out_str2 += (chr(ord(my_str[i])-2))\n",
    "print(out_str2)\n",
    "        \n"
   ]
  }
 ],
 "metadata": {
  "colab": {
   "name": "Conditional_and_loop_assignment.ipynb",
   "provenance": []
  },
  "kernelspec": {
   "display_name": "Python 3",
   "language": "python",
   "name": "python3"
  },
  "language_info": {
   "codemirror_mode": {
    "name": "ipython",
    "version": 3
   },
   "file_extension": ".py",
   "mimetype": "text/x-python",
   "name": "python",
   "nbconvert_exporter": "python",
   "pygments_lexer": "ipython3",
   "version": "3.7.6"
  }
 },
 "nbformat": 4,
 "nbformat_minor": 1
}
