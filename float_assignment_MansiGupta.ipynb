{
 "cells": [
  {
   "cell_type": "code",
   "execution_count": 5,
   "metadata": {},
   "outputs": [
    {
     "name": "stdout",
     "output_type": "stream",
     "text": [
      "The value is:  26.5\n",
      "The type of value is:  <class 'float'>\n",
      "The ID of value is:  54800048\n"
     ]
    }
   ],
   "source": [
    "#Declare a float value and store it in a variable. \n",
    "# Case 1: Float value already given.\n",
    "num = 26.5\n",
    "print('The value is: ',num)\n",
    "print('The type of value is: ',type(num))\n",
    "print('The ID of value is: ',id(num))\n",
    "\n",
    "#Check the type and print the id of the same.\n",
    "\n",
    "# Output :\n",
    "# The value is:  26.5\n",
    "# The type of value is:  <class 'float'>\n",
    "# The ID of value is:  54338160"
   ]
  },
  {
   "cell_type": "code",
   "execution_count": 3,
   "metadata": {},
   "outputs": [
    {
     "name": "stdout",
     "output_type": "stream",
     "text": [
      "Enter the Value: 10.5\n",
      "The entered value is:  10.5\n",
      "The type of entered value is:  <class 'float'>\n",
      "The ID of entered value is:  54341280\n"
     ]
    }
   ],
   "source": [
    "#Declare a float value and store it in a variable. \n",
    "# Case 2: Taking input from the user.\n",
    "num = float(input('Enter the Value: '))\n",
    "print('The entered value is: ',num)\n",
    "print('The type of entered value is: ',type(num))\n",
    "print('The ID of entered value is: ',id(num))\n",
    "\n",
    "#Check the type and print the id of the same.\n",
    "\n",
    "# Output :\n",
    "# Enter the Value: 10.5\n",
    "# The entered value is:  10.5\n",
    "# The type of entered value is:  <class 'float'>\n",
    "# The ID of entered value is:  54341280"
   ]
  },
  {
   "cell_type": "code",
   "execution_count": 8,
   "metadata": {},
   "outputs": [
    {
     "name": "stdout",
     "output_type": "stream",
     "text": [
      "Enter the first value : 7.5\n",
      "Enter the second value : 6.2\n",
      "Sum of two numbers are  13.7\n",
      "Difference of two numbers are  1.2999999999999998\n",
      "Product of two numbers are  46.5\n",
      "Value after dividing first number with second number is  1.2096774193548387\n",
      "The remainder after dividing first number with second number is  1.2999999999999998\n",
      "The quotient after dividing first number with second number is  1.0\n",
      "The result of first number to the power of second number is  266305.3142186568\n"
     ]
    }
   ],
   "source": [
    "#Arithmatic Operations on float\n",
    "#Take two different float values.\n",
    "#Store them in two different variables.\n",
    "\n",
    "num1 = float(input('Enter the first value : '))\n",
    "num2 = float(input('Enter the second value : '))\n",
    "\n",
    "#Do below operations on them:-\n",
    "    #Find sum of both numbers\n",
    "print('Sum of two numbers are ',num1+num2)\n",
    "\n",
    "    #Find differce between them\n",
    "print('Difference of two numbers are ',num1-num2)\n",
    "\n",
    "    #Find the product of both numbers.\n",
    "print('Product of two numbers are ',num1*num2)\n",
    "\n",
    "    #Find value after dividing first num with second number\n",
    "print('Value after dividing first number with second number is ',num1/num2)\n",
    "\n",
    "    #Find the remainder after dividing first number with second number\n",
    "print('The remainder after dividing first number with second number is ',num1%num2)\n",
    "\n",
    "    #Find the quotient after dividing first number with second number\n",
    "print('The quotient after dividing first number with second number is ',num1//num2)\n",
    "    \n",
    "    #Find the result of first num to the power of second number.\n",
    "print('The result of first number to the power of second number is ',num1**num2)\n",
    "\n",
    "# Output :\n",
    "# Enter the first value : 7.5\n",
    "# Enter the second value : 6.2\n",
    "# Sum of two numbers are  13.7\n",
    "# Difference of two numbers are  1.2999999999999998\n",
    "# Product of two numbers are  46.5\n",
    "# Value after dividing first number with second number is  1.2096774193548387\n",
    "# The remainder after dividing first number with second number is  1.2999999999999998\n",
    "# The quotient after dividing first number with second number is  1.0\n",
    "# The result of first number to the power of second number is  266305.3142186568"
   ]
  },
  {
   "cell_type": "code",
   "execution_count": 9,
   "metadata": {},
   "outputs": [
    {
     "name": "stdout",
     "output_type": "stream",
     "text": [
      "Enter the first value : 4.5\n",
      "Enter the second value : 2.3\n",
      "True\n",
      "False\n",
      "True\n",
      "False\n"
     ]
    }
   ],
   "source": [
    "#Comparison Operators on float\n",
    "#Take two different float values.\n",
    "#Store them in two different variables.\n",
    "\n",
    "num1 = float(input('Enter the first value : '))\n",
    "num2 = float(input('Enter the second value : '))\n",
    "\n",
    "#Do below operations on them:-\n",
    "    #Compare these two numbers with below operator:-\n",
    "        #Greater than, '>'\n",
    "print(num1>num2)\n",
    "\n",
    "        #Smaller than, '<'\n",
    "print(num1<num2)\n",
    "\n",
    "        #Greater than or equal to, '>='\n",
    "print(num1>=num2)\n",
    "\n",
    "        #Less than or equal to, '<='\n",
    "print(num1<=num2)\n",
    "\n",
    "#Observe their output(return type should be boolean)\n",
    "\n",
    "# Output :\n",
    "# Enter the first value : 4.5\n",
    "# Enter the second value : 2.3\n",
    "# True\n",
    "# False\n",
    "# True\n",
    "# False"
   ]
  },
  {
   "cell_type": "code",
   "execution_count": 14,
   "metadata": {},
   "outputs": [
    {
     "name": "stdout",
     "output_type": "stream",
     "text": [
      "Enter the first value : 34.5\n",
      "Enter the second value : 34.5\n",
      "True\n",
      "False\n"
     ]
    }
   ],
   "source": [
    "#Equality Operator\n",
    "#Take two different float values.\n",
    "#Store them in two different variables.\n",
    "num1 = float(input('Enter the first value : '))\n",
    "num2 = float(input('Enter the second value : '))\n",
    "\n",
    "#Equuate them using equality operator (==, !=)\n",
    "print(num1==num2)\n",
    "print(num1!=num2)\n",
    "\n",
    "#Observe the output(return type should be boolean)\n",
    "\n",
    "# Output\n",
    "# Enter the first value : 34.5\n",
    "# Enter the second value : 34.5\n",
    "# True\n",
    "# False\n"
   ]
  },
  {
   "cell_type": "code",
   "execution_count": null,
   "metadata": {},
   "outputs": [],
   "source": [
    "#Logical operators\n",
    "#Observe the output of below code\n",
    "#Cross check the output manually\n",
    "\n",
    "# Ans. As we already know that all the whole numbers except zero are always true. Here in the below code we are applying\n",
    "#      the \"and\" Logical operation according to the \"and\" table.\n",
    "#  Here the code checks the first value and second value both,& if any one value is false then it will return False  \n",
    "#  if first and second both values are true then it returns the second value.\n",
    "\n",
    "print(10.20 and 20.30)       #both are true and second value taken >Output is 20.3\n",
    "# Here the code checks the first value and second value both as both are true so it takes the second value.\n",
    "\n",
    "print(0.0 and 20.30)         #First is false so first value taken->Output is 0.0\n",
    "# Here the code checks the first value as false so it takes the first value (as false & true \n",
    "# returns False according to \"and\" table.)\n",
    "\n",
    "print(20.30 and 0.0)         #Goes to till second and second value is false so second is taken>Output is 0.0\n",
    "# Here the code checks the first value as true and second value as false so it takes the second value (as true & false \n",
    "# returns False according to \"and\" table.)\n",
    "\n",
    "print(0.0 and 0.0)           #First is false so first value is taken->Output is 0.0\n",
    "# Here the code checks the first value as both are False so it takes the first value."
   ]
  },
  {
   "cell_type": "code",
   "execution_count": null,
   "metadata": {},
   "outputs": [],
   "source": [
    "#Logical operators\n",
    "#Observe the output of below code\n",
    "#Cross check the output manually\n",
    "\n",
    "# Ans. As we already know that all the whole numbers except zero are always true. Here in the below code we are applying\n",
    "#      the \"or\" Logical operation according to the \"or\" table.\n",
    "#  Here the code checks the first value and second value both,& if any one value is True then it will return True  \n",
    "#  if first and second both values are true then it returns the first value as already first itself is true.\n",
    "\n",
    "print(10.20 or 20.30)        #First is True so first value is taken>Output is 10.2\n",
    "# Here the code checks the first value as both are true so it takes the first value.\n",
    "\n",
    "print(0.0 or 20.30)          #Goes to till second and second is true second value is taken->Output is 20.3\n",
    "# Here the code checks the first value as false and second value as true so it takes the second value (as false & true \n",
    "# returns true according to \"or\" table.)\n",
    "\n",
    "print(20.30 or 0.0)          #First is True so first value is taken->Output is 20.3\n",
    "# Here the code checks the first value as true so it takes the first value (as true & false \n",
    "# returns true according to \"or\" table.)\n",
    "\n",
    "print(0.0 or 0.0)            #Goes to till second and secod is also false and second value is taken>Output is 0.0\n",
    "# Here the code checks the first value and second value both as both are False so it takes the second value.\n"
   ]
  },
  {
   "cell_type": "code",
   "execution_count": null,
   "metadata": {},
   "outputs": [],
   "source": [
    "#Logical operators\n",
    "#Observe the output of below code\n",
    "#Cross check the output manually\n",
    "\n",
    "# Ans. As we already know that all the whole numbers except zero are always true. Here in the below code we are applying\n",
    "#      the \"not\" Logical operation according to the \"not\" table.\n",
    "#  Here, in not table if the value is true then it always gives the output as false & \n",
    "#   if the value is false then it always gives the output as true.\n",
    "\n",
    "print(not 10.20)             #-Not of true is false->Output is False\n",
    "# ..Here we can see that 10.20 is True but according to \"not\" operation, the output will be false.\n",
    "\n",
    "print(not 0.0)               #Not of false is True>Output is True\n",
    "# ..Here we can see that 0.0 is false but according to \"not\" operation, the output will be True."
   ]
  },
  {
   "cell_type": "code",
   "execution_count": 16,
   "metadata": {},
   "outputs": [
    {
     "name": "stdout",
     "output_type": "stream",
     "text": [
      "False\n",
      "True\n"
     ]
    }
   ],
   "source": [
    "#What is the output of expression inside print statement. Cross check before running the program.\n",
    "a = 10.20\n",
    "b = 10.20\n",
    "print(a is b)          #True or False? True 10.20<256\n",
    "print(a is not b)      #True or False? False\n",
    "\n",
    "# Output :\n",
    "# False\n",
    "# True\n",
    "\n",
    "# Why the Id of float values are different when the same value is assigned to two different variables\n",
    "# ex: a = 10.5 b=10.5. but id will be same if I assign the variable having float i.e. a=c then both a anc c's\n",
    "# Id are same\n"
   ]
  },
  {
   "cell_type": "code",
   "execution_count": 7,
   "metadata": {},
   "outputs": [
    {
     "name": "stdout",
     "output_type": "stream",
     "text": [
      "False\n",
      "True\n",
      "False\n",
      "True\n",
      "True\n"
     ]
    }
   ],
   "source": [
    "#Bitwise operation is not applicable between instances of float.\n",
    "## Why the Id of float values are different when the same value is assigned to two different variables\n",
    "a = 10.20\n",
    "b = 10.20\n",
    "print(a is b)  \n",
    "print(a is not b)  \n",
    "# Id of float values are different when the same value is assigned to two different variables as float values do not follow \n",
    "# Object Re-usability concept.\n",
    "\n",
    "a = 10.5\n",
    "b = 10.5\n",
    "c = a\n",
    "print(a is b)  \n",
    "print(a is not b)  \n",
    "print(a is c)\n",
    "## ex: a = 10.5 b=10.5. but id will be same if I assign the variable having float i.e. a=c then both a anc c's\n",
    "## Id are same\n",
    "#Object reusability concept is not applicable on float values."
   ]
  },
  {
   "cell_type": "code",
   "execution_count": 17,
   "metadata": {},
   "outputs": [
    {
     "name": "stdout",
     "output_type": "stream",
     "text": [
      "True\n",
      "True\n",
      "True\n",
      "True\n",
      "True\n",
      "True\n"
     ]
    }
   ],
   "source": [
    "#Membership operation\n",
    "#in, not in are two membership operators and it returns boolean value\n",
    "\n",
    "print('2.7' in 'Python2.7.8')              #True\n",
    "#..Here in this code membership operation is followed as \"2.7\" is included as it is in the given code \"Python2.7.8\".\n",
    "#  Here the output will be a boolean value i.e. \"True\".\n",
    "\n",
    "print(10.20 in [10,10.20,10+20j,'Python']) #True\n",
    "#..Here in this code membership operation is followed as \"10.20\" is included as it is in the given code in the given list.\n",
    "#  Here the output will be a boolean value i.e. \"True\".\n",
    "\n",
    "print(10.20 in (10,10.20,10+20j,'Python')) # True\n",
    "#..Here in this code membership operation is followed as \"10.20\" is included as it is in the given code.\n",
    "#  Here the output will be a boolean value i.e. \"True\".\n",
    "\n",
    "print(20.30 in {1,20.30,30+40j})           # True\n",
    "#..Here in this code membership operation is followed as \"20.30\" is included as it is in the given code in the given set.\n",
    "#  Here the output will be a boolean value i.e. \"True\".\n",
    "\n",
    "print(2.3 in {1:100, 2.3:200, 30+40j:300}) # True\n",
    "#..Here in this code membership operation is followed as \"2.3\" is included as it is in the given code.\n",
    "#  Here the output will be a boolean value i.e. \"True\".\n",
    "\n",
    "print(10 in range(20))                     # True\n",
    "#..Here in this code membership operation is followed as \"10\" is included within the range provided range(0, 20).\n",
    "#  Here the output will be a boolean value i.e. \"True\"."
   ]
  },
  {
   "cell_type": "code",
   "execution_count": null,
   "metadata": {},
   "outputs": [],
   "source": []
  },
  {
   "cell_type": "code",
   "execution_count": null,
   "metadata": {},
   "outputs": [],
   "source": []
  },
  {
   "cell_type": "code",
   "execution_count": null,
   "metadata": {},
   "outputs": [],
   "source": []
  },
  {
   "cell_type": "code",
   "execution_count": null,
   "metadata": {},
   "outputs": [],
   "source": []
  },
  {
   "cell_type": "code",
   "execution_count": null,
   "metadata": {},
   "outputs": [],
   "source": []
  }
 ],
 "metadata": {
  "kernelspec": {
   "display_name": "Python 3",
   "language": "python",
   "name": "python3"
  },
  "language_info": {
   "codemirror_mode": {
    "name": "ipython",
    "version": 3
   },
   "file_extension": ".py",
   "mimetype": "text/x-python",
   "name": "python",
   "nbconvert_exporter": "python",
   "pygments_lexer": "ipython3",
   "version": "3.7.6"
  }
 },
 "nbformat": 4,
 "nbformat_minor": 4
}
