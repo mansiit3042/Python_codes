{
 "cells": [
  {
   "cell_type": "code",
   "execution_count": 8,
   "metadata": {},
   "outputs": [
    {
     "name": "stdout",
     "output_type": "stream",
     "text": [
      "The value is:  50\n",
      "The type of value is:  <class 'int'>\n",
      "The ID of value is:  1785519088\n"
     ]
    }
   ],
   "source": [
    "#Declare an int value and store it in a variable. \n",
    "# Case 1: Integer value already given.\n",
    "num = 50\n",
    "print('The value is: ',num)\n",
    "print('The type of value is: ',type(num))\n",
    "print('The ID of value is: ',id(num))\n",
    "\n",
    "#Check the type and print the id of the same.\n",
    "\n",
    "# Output :\n",
    "# The value is:  50\n",
    "# The type of value is:  <class 'int'>\n",
    "# The ID of value is:  1785519088"
   ]
  },
  {
   "cell_type": "code",
   "execution_count": 8,
   "metadata": {},
   "outputs": [
    {
     "name": "stdout",
     "output_type": "stream",
     "text": [
      "Enter the Value: 50\n",
      "The entered value is:  50\n",
      "The type of entered value is:  <class 'int'>\n",
      "The ID of entered value is:  1683545072\n"
     ]
    }
   ],
   "source": [
    "#Declare an int value and store it in a variable. \n",
    "# Case 2: Taking input from the user.\n",
    "num = int(input('Enter the Value: '))\n",
    "print('The entered value is: ',num)\n",
    "print('The type of entered value is: ',type(num))\n",
    "print('The ID of entered value is: ',id(num))\n",
    "\n",
    "#Check the type and print the id of the same.\n",
    "\n",
    "# Output :\n",
    "# Enter the Value: 50\n",
    "# The entered value is:  50\n",
    "# The type of entered value is:  <class 'int'>\n",
    "# The ID of entered value is:  1683545072"
   ]
  },
  {
   "cell_type": "code",
   "execution_count": 3,
   "metadata": {},
   "outputs": [
    {
     "name": "stdout",
     "output_type": "stream",
     "text": [
      "The ID of num1 value is:  1637276176\n",
      "The ID of num2 value is:  1637276176\n"
     ]
    }
   ],
   "source": [
    "#Take one int value between 0 - 256.\n",
    "#Assign it to two different variables.\n",
    "#Check the id of both the variables. It should come same. Check why?\n",
    "\n",
    "num1 = 20\n",
    "num2 = 20\n",
    "print('The ID of num1 value is: ',id(num1))\n",
    "print('The ID of num2 value is: ',id(num2))\n",
    "\n",
    "# The id's are coming same due to the Object Reusability concept as there is a range from -5 to 256 in this object re-usability.\n",
    "\n",
    "# Output :\n",
    "# The ID of num1 value is:  1637276176\n",
    "# The ID of num2 value is:  1637276176"
   ]
  },
  {
   "cell_type": "code",
   "execution_count": 1,
   "metadata": {},
   "outputs": [
    {
     "name": "stdout",
     "output_type": "stream",
     "text": [
      "The ID of num1 value is:  55298400\n",
      "The ID of num2 value is:  55298384\n"
     ]
    }
   ],
   "source": [
    "#Take one int value either less than -5 or greater than 256.\n",
    "#Assign it to two different variables.\n",
    "#Check the id of both the variables. It should come different.Check why?\n",
    "num1 = 500\n",
    "num2 = 500\n",
    "print('The ID of num1 value is: ',id(num1))\n",
    "print('The ID of num2 value is: ',id(num2))\n",
    "\n",
    "# The id's are coming different due to the Object Reusability concept as there is a range from -5 to 256 in this object re-usability.\n",
    "\n",
    "# Output :\n",
    "# The ID of num1 value is:  55298400\n",
    "# The ID of num2 value is:  55298384"
   ]
  },
  {
   "cell_type": "code",
   "execution_count": 6,
   "metadata": {},
   "outputs": [
    {
     "name": "stdout",
     "output_type": "stream",
     "text": [
      "Enter the First Number : 20\n",
      "Enter the Second Number: 6\n",
      "Sum of a and b is:  26\n",
      "Difference of a and b is:  14\n",
      "Product of a and b is:  120\n",
      "Division of a and b is:  3.3333333333333335\n",
      "Remainder after dividing first number with second number:  2\n",
      "Quotient after dividing first number with second number is:  3\n",
      "Result of first num to the power of second number is:  64000000\n"
     ]
    }
   ],
   "source": [
    "#Arithmatic Operations on integers\n",
    "#Take two different intger values.\n",
    "#Store them in two different variables.\n",
    "#Do below operations on them:-\n",
    "    #Find sum of both numbers\n",
    "    #Find differce between them\n",
    "    #Find the product of both numbers.\n",
    "    #Find value after dividing first num with second number\n",
    "    #Find the remainder after dividing first number with second number\n",
    "    #Find the quotient after dividing first number with second number\n",
    "    #Find the result of first num to the power of second number.\n",
    "    \n",
    "a = int(input('Enter the First Number : '))\n",
    "b = int(input('Enter the Second Number: '))\n",
    "print('Sum of a and b is: ',a+b)                                       #Find sum of both numbers\n",
    "print('Difference of a and b is: ',a-b)                                  #Find differce between them\n",
    "print('Product of a and b is: ',a*b)                                      #Find the product of both numbers.\n",
    "print('Division of a and b is: ',a/b)                                       #Find value after dividing first num with second number\n",
    "print('Remainder after dividing first number with second number: ',a%b)        #Find the remainder after dividing first number with second number\n",
    "print('Quotient after dividing first number with second number is: ',a//b)       #Find the quotient after dividing first number with second number\n",
    "print('Result of first num to the power of second number is: ',a**b)         #Find the result of first num to the power of second number.\n",
    "\n",
    "# Output :  \n",
    "# Enter the First Number : 20\n",
    "# Enter the Second Number: 6\n",
    "# Sum of a and b is:  26\n",
    "# Difference of a and b is:  14\n",
    "# Product of a and b is:  120\n",
    "# Division of a and b is:  3.3333333333333335\n",
    "# Remainder after dividing first number with second number:  2\n",
    "# Quotient after dividing first number with second number is:  3\n",
    "# Result of first num to the power of second number is:  64000000"
   ]
  },
  {
   "cell_type": "code",
   "execution_count": 11,
   "metadata": {},
   "outputs": [
    {
     "name": "stdout",
     "output_type": "stream",
     "text": [
      "Enter the first number: 30\n",
      "Enter the second number: 30\n",
      "\n",
      "False\n",
      "False\n",
      "True\n",
      "True\n"
     ]
    }
   ],
   "source": [
    "#Comparison Operators on integers\n",
    "#Take two different intger values.\n",
    "#Store them in two different variables.\n",
    "#Do below operations on them:-\n",
    "    #Compare se two numbers with below operator:-\n",
    "        #Greater than, '>'\n",
    "        #Smaller than, '<'\n",
    "        #Greater than or equal to, '>='\n",
    "        #Less than or equal to, '<='\n",
    "#Observe their output(return type should be boolean)\n",
    "\n",
    "num1 = int(input('Enter the first number: '))\n",
    "num2 = int(input('Enter the second number: '))\n",
    "print()\n",
    "print(num1>num2)   #Greater than, '>'\n",
    "print(num1<num2)   #Smaller than, '<'\n",
    "print(num1>=num2)  #Greater than or equal to, '>='\n",
    "print(num1<=num2)  #Less than or equal to, '<='\n",
    "\n",
    "# Output :  \n",
    "# Enter the first number: 30\n",
    "# Enter the second number: 30\n",
    "\n",
    "# False\n",
    "# False\n",
    "# True\n",
    "# True"
   ]
  },
  {
   "cell_type": "code",
   "execution_count": 14,
   "metadata": {},
   "outputs": [
    {
     "name": "stdout",
     "output_type": "stream",
     "text": [
      "Enter the first number: 10\n",
      "Enter the second number: 20\n",
      "\n",
      "False\n",
      "True\n"
     ]
    }
   ],
   "source": [
    "#Equality Operator\n",
    "#Take two different intger values.\n",
    "#Store them in two different variables.\n",
    "#Equuate them using equality operator (==, !=)\n",
    "#Observe the output(return type should be boolean)\n",
    "\n",
    "num1 = int(input('Enter the first number: '))\n",
    "num2 = int(input('Enter the second number: '))\n",
    "print()\n",
    "print(num1==num2)\n",
    "print(num1!=num2)\n",
    "\n",
    "# Output :  \n",
    "# Enter the first number: 10\n",
    "# Enter the second number: 20\n",
    "\n",
    "# False\n",
    "# True"
   ]
  },
  {
   "cell_type": "code",
   "execution_count": 15,
   "metadata": {},
   "outputs": [
    {
     "name": "stdout",
     "output_type": "stream",
     "text": [
      "20\n",
      "0\n",
      "0\n",
      "0\n"
     ]
    }
   ],
   "source": [
    "#Logical operators\n",
    "#Observe the output of below code\n",
    "#Cross check the output manually\n",
    "\n",
    "# Ans. As we already know that all the whole numbers except zero are always true. Here in the below code we are applying\n",
    "#      the \"and\" Logical operation according to the \"and\" table.\n",
    "#  Here the code checks the first object and second object both & if any one object is false then it will return False \n",
    "#  if first and second both objects are true then it returns the second object.\n",
    "\n",
    "print(10 and 20)       #----------------------------------------->Output is 20\n",
    "# ..Here 10 and 20 both are true so they are giving the output as second value true i.e. 20\n",
    "\n",
    "print(0 and 20)        #----------------------------------------->Output is 0\n",
    "# ..Here code checks 0 is False so they are giving the output as False i.e. 0\n",
    "\n",
    "print(20 and 0)        #----------------------------------------->Output is 0\n",
    "# ..Here code checks 20 is True then it goes to 0 is False so they are giving the output as False i.e. 0\n",
    "\n",
    "print(0 and 0)         #----------------------------------------->Output is 0\n",
    "# ..Here code checks 0 first value as false so they are giving the output as False i.e. 0"
   ]
  },
  {
   "cell_type": "code",
   "execution_count": 16,
   "metadata": {},
   "outputs": [
    {
     "name": "stdout",
     "output_type": "stream",
     "text": [
      "10\n",
      "20\n",
      "20\n",
      "0\n"
     ]
    }
   ],
   "source": [
    "#Logical operators\n",
    "#Observe the output of below code\n",
    "#Cross check the output manually\n",
    "\n",
    "# Ans. As we already know that all the whole numbers except zero are always true. Here in the below code we are applying\n",
    "#      the \"or\" Logical operation according to the \"or\" table.\n",
    "#  Here the code returns the first object, if first object is False then it returns second object.\n",
    "\n",
    "print(10 or 20)        #----------------------------------------->Output is 10\n",
    "#..Here the code gives the output as 10 because the first object is true itself and in \"or\" table\n",
    "#  if first object is true then output will return true of first object. \n",
    "\n",
    "print(0 or 20)         #----------------------------------------->Output is 20\n",
    "#..Here the code gives the output as 20 because the first object is False so it will check with the second object if it is true\n",
    "#  then the output will be the second object which is true i.e. 20.\n",
    "\n",
    "print(20 or 0)         #----------------------------------------->Output is 20\n",
    "#..Here the code gives the output as 20 because the code checks the first object as true itself\n",
    "# so it will give the output as true which is the first object i.e. 20.\n",
    "\n",
    "print(0 or 0)          #----------------------------------------->Output is 0\n",
    "#  Here the code gives the output as 0 because the first object is false and when it checks the second object\n",
    "#  so it is also false so it will give the output as false i.e. 0.\n"
   ]
  },
  {
   "cell_type": "code",
   "execution_count": 17,
   "metadata": {},
   "outputs": [
    {
     "name": "stdout",
     "output_type": "stream",
     "text": [
      "False\n",
      "True\n"
     ]
    }
   ],
   "source": [
    "#Logical operators\n",
    "#Observe the output of below code\n",
    "#Cross check the output manually\n",
    "\n",
    "# Ans. As we already know that all the whole numbers except zero are always true. Here in the below code we are applying\n",
    "#      the \"not\" Logical operation according to the \"not\" table.\n",
    "#  Here, in not table if the object is true then it always gives the output as false & \n",
    "#   if the object is false then it always gives the output as true.\n",
    "\n",
    "\n",
    "print(not 10)          #----------------------------------------->Output is False\n",
    "# ..Here we can see that 10 is True but according to \"not\" operation, the output will be false.\n",
    "\n",
    "print(not 0)           #----------------------------------------->Output is True\n",
    "# ..Here we can see that 0 is False but according to \"not\" operation, the output will be True."
   ]
  },
  {
   "cell_type": "code",
   "execution_count": 8,
   "metadata": {},
   "outputs": [
    {
     "name": "stdout",
     "output_type": "stream",
     "text": [
      "0\n",
      "30\n",
      "30\n",
      "-11\n",
      "40\n",
      "2\n"
     ]
    }
   ],
   "source": [
    "#Bitwise Operators\n",
    "#Do below operations on the values provided below:-\n",
    "    #Bitwise and(&) -----------------------------------------> 10, 20   -------> Output is 0\n",
    "\n",
    "    #Bitwise or(|)  -----------------------------------------> 10, 20   -------> Output is 30\n",
    "    #Bitwise(^)     -----------------------------------------> 10, 20   -------> Output is 30\n",
    "    #Bitwise negation(~) ------------------------------------> 10       -------> Output is -11\n",
    "    #Bitwise left shift  ------------------------------------> 10,2     -------> Output is 40\n",
    "    #Bitwise right shift ------------------------------------> 10,2     -------> Output is 2\n",
    "#Cross check the output manually\n",
    "\n",
    "num1 = 10\n",
    "num2 = 20\n",
    "print(num1 & num2)\n",
    "print(num1 | num2)\n",
    "print(num1 ^ num2)\n",
    "print(~num1)\n",
    "print(num1<<2)\n",
    "print(num1>>2)\n",
    "\n",
    "# Output :\n",
    "#  0\n",
    "# 30\n",
    "# 30\n",
    "# -11\n",
    "# 40\n",
    "# 2"
   ]
  },
  {
   "cell_type": "code",
   "execution_count": 19,
   "metadata": {},
   "outputs": [
    {
     "name": "stdout",
     "output_type": "stream",
     "text": [
      "True\n",
      "False\n"
     ]
    }
   ],
   "source": [
    "#What is the output of expression inside print statement. Cross check before running the program.\n",
    "a = 10\n",
    "b = 10\n",
    "print(a is b)          #True or False?\n",
    "#..Here the output will be \"True\" because of the identity operator as both the objects are same and assigned to different\n",
    "#  variables and also object re-usability concept is applied within a specified range between -5 to 256.\n",
    "\n",
    "print(a is not b)      #True or False?\n",
    "#..Here the output will be \"False\" because of the identity operator"
   ]
  },
  {
   "cell_type": "code",
   "execution_count": 24,
   "metadata": {},
   "outputs": [
    {
     "name": "stdout",
     "output_type": "stream",
     "text": [
      "False\n",
      "True\n"
     ]
    }
   ],
   "source": [
    "#What is the output of expression inside print statement. Cross check before running the program.\n",
    "a = 1000\n",
    "b = 1000\n",
    "print(a is b)          #True or False?\n",
    "#..Here the output will be \"False\" because of the identity operator and \n",
    "#  also object re-usability concept is applied within a specified range between -5 to 256.\n",
    "\n",
    "print(a is not b)      #True or False?\n",
    "#..Here the output will be \"True\" because of the identity operator."
   ]
  },
  {
   "cell_type": "code",
   "execution_count": 9,
   "metadata": {},
   "outputs": [
    {
     "name": "stdout",
     "output_type": "stream",
     "text": [
      "20\n"
     ]
    }
   ],
   "source": [
    "#What is the output of expression inside print statement. Cross check before running the program.\n",
    "print(10+(10*32)//2**5&20+(~(-10))<<2)\n",
    "\n",
    "# Output :\n",
    "# 20"
   ]
  },
  {
   "cell_type": "code",
   "execution_count": 1,
   "metadata": {},
   "outputs": [
    {
     "name": "stdout",
     "output_type": "stream",
     "text": [
      "True\n",
      "True\n",
      "True\n",
      "True\n",
      "True\n",
      "True\n"
     ]
    }
   ],
   "source": [
    "#Membership operation\n",
    "#in, not in are two membership operators and it returns boolean value\n",
    "\n",
    "print('2' in 'Python2.7.8')\n",
    "#..Here in this code membership operation is followed as \"2\" is included as it is in the given code \"Python2.7.8\".\n",
    "#  Here the output will be a boolean value i.e. \"True\".\n",
    "\n",
    "print(10 in [10,10.20,10+20j,'Python'])\n",
    "#..Here in this code membership operation is followed as \"10\" is included as it is in the given code in the given list.\n",
    "#  Here the output will be a boolean value i.e. \"True\".\n",
    "\n",
    "print(10 in (10,10.20,10+20j,'Python'))\n",
    "#..Here in this code membership operation is followed as \"10\" is included as it is in the given code.\n",
    "#  Here the output will be a boolean value i.e. \"True\".\n",
    "\n",
    "print(2 in {1,2,3})\n",
    "#..Here in this code membership operation is followed as \"2\" is included as it is in the given code in the given Set.\n",
    "#  Here the output will be a boolean value i.e. \"True\".\n",
    "\n",
    "print(3 in {1:100, 2:200, 3:300})\n",
    "#..Here in this code membership operation is followed as \"3\" is included as it is in the given code.\n",
    "#  Here the output will be a boolean value i.e. \"True\".\n",
    "\n",
    "print(10 in range(20))\n",
    "#..Here in this code membership operation is followed as \"10\" is included within the range provided range(0, 20).\n",
    "#  Here the output will be a boolean value i.e. \"True\"."
   ]
  },
  {
   "cell_type": "code",
   "execution_count": 13,
   "metadata": {},
   "outputs": [
    {
     "name": "stdout",
     "output_type": "stream",
     "text": [
      "78\n",
      "5002\n",
      "22382\n",
      "Binary equivalent of 9876 is 0b10011010010100\n",
      "Octal equivalent of 9876 is 0o23224\n",
      "Octal equivalent of 9876 is 0x2694\n"
     ]
    }
   ],
   "source": [
    "#An integer can be represented in binary, octal or hexadecimal form.\n",
    "#Declare one binary, one octal and one hexadecimal value and store them in three different variables.\n",
    "\n",
    "bin_num = 0b1001110\n",
    "oct_num = 0o11612\n",
    "hex_num = 0x576e\n",
    "\n",
    "print(int(bin_num))\n",
    "print(int(oct_num))\n",
    "print(int(hex_num))\n",
    "\n",
    "# Output\n",
    "# 78\n",
    "# 5002\n",
    "# 22382\n",
    "\n",
    "#Convert 9876 to its binary, octal and hexadecimal equivalent and print their corresponding value.\n",
    "num1 = 9876\n",
    "# # To get binary equivalent\n",
    "bin_num1 = bin(num1)\n",
    "print(f'Binary equivalent of {num1} is {bin_num1}')\n",
    "# # To get octal equivalent\n",
    "oct_num1 = oct(num1)\n",
    "print(f'Octal equivalent of {num1} is {oct_num1}')\n",
    "# # To get hexadecimal equivalent\n",
    "hex_num1 = hex(num1)\n",
    "print(f'Octal equivalent of {num1} is {hex_num1}')\n",
    "\n",
    "# Output :\n",
    "# Binary equivalent of 9876 is 0b10011010010100\n",
    "# Octal equivalent of 9876 is 0o23224\n",
    "# Octal equivalent of 9876 is 0x2694"
   ]
  },
  {
   "cell_type": "code",
   "execution_count": 16,
   "metadata": {},
   "outputs": [
    {
     "name": "stdout",
     "output_type": "stream",
     "text": [
      "80\n",
      "3870\n",
      "64222\n",
      "0b1010000\n",
      "0o7436\n",
      "0xfade\n",
      "0b1010000\n",
      "0b1111101011011110\n",
      "0o175336\n",
      "0o7436\n",
      "0x50\n",
      "0xfade\n"
     ]
    }
   ],
   "source": [
    "#What will be the outut of following:-\n",
    "a = 0b1010000\n",
    "print(a)\n",
    "\n",
    "b = 0o7436\n",
    "print(b)\n",
    "\n",
    "c = 0xfade\n",
    "print(c)\n",
    "\n",
    "print(bin(80))\n",
    "\n",
    "print(oct(3870))\n",
    "\n",
    "print(hex(64222))\n",
    "\n",
    "print(bin(0b1010000))\n",
    "\n",
    "print(bin(0xfade))\n",
    "\n",
    "print(oct(0xfade))\n",
    "\n",
    "print(oct(0o7436))\n",
    "\n",
    "print(hex(0b1010000))\n",
    "\n",
    "print(hex(0xfade))\n",
    "\n",
    "# Output : \n",
    "\n",
    "# 80\n",
    "# 3870\n",
    "# 64222\n",
    "# 0b1010000\n",
    "# 0o7436\n",
    "# 0xfade\n",
    "# 0b1010000\n",
    "# 0b1111101011011110\n",
    "# 0o175336\n",
    "# 0o7436\n",
    "# 0x50\n",
    "# 0xfade"
   ]
  },
  {
   "cell_type": "code",
   "execution_count": null,
   "metadata": {},
   "outputs": [],
   "source": []
  },
  {
   "cell_type": "code",
   "execution_count": null,
   "metadata": {},
   "outputs": [],
   "source": []
  },
  {
   "cell_type": "code",
   "execution_count": null,
   "metadata": {},
   "outputs": [],
   "source": []
  },
  {
   "cell_type": "code",
   "execution_count": null,
   "metadata": {},
   "outputs": [],
   "source": []
  },
  {
   "cell_type": "code",
   "execution_count": null,
   "metadata": {},
   "outputs": [],
   "source": []
  },
  {
   "cell_type": "code",
   "execution_count": null,
   "metadata": {},
   "outputs": [],
   "source": []
  }
 ],
 "metadata": {
  "kernelspec": {
   "display_name": "Python 3",
   "language": "python",
   "name": "python3"
  },
  "language_info": {
   "codemirror_mode": {
    "name": "ipython",
    "version": 3
   },
   "file_extension": ".py",
   "mimetype": "text/x-python",
   "name": "python",
   "nbconvert_exporter": "python",
   "pygments_lexer": "ipython3",
   "version": "3.7.6"
  }
 },
 "nbformat": 4,
 "nbformat_minor": 4
}
