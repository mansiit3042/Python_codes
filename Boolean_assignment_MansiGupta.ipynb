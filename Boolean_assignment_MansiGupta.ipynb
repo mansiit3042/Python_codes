{
 "cells": [
  {
   "cell_type": "code",
   "execution_count": 2,
   "metadata": {},
   "outputs": [
    {
     "name": "stdout",
     "output_type": "stream",
     "text": [
      "Enter any value: 13\n",
      "Enter any 2nd value: 16\n",
      "Value a is:  True\n",
      "1866198192 <class 'bool'>\n",
      "Value b is:  True\n",
      "1866198192 <class 'bool'>\n"
     ]
    }
   ],
   "source": [
    "#Declare a boolean value and store it in a variable. \n",
    "\n",
    "a = bool(int(input('Enter any value: ')))\n",
    "b = bool(int(input('Enter any 2nd value: ')))\n",
    "print('Value a is: ',a)\n",
    "print(id(a),type(a))\n",
    "print('Value b is: ',b)\n",
    "print(id(b),type(b))"
   ]
  },
  {
   "cell_type": "code",
   "execution_count": 1,
   "metadata": {},
   "outputs": [
    {
     "name": "stdout",
     "output_type": "stream",
     "text": [
      "Enter any boolean value: 12\n",
      "Enter the same boolean value: 12\n",
      "The ID of num1 value is:  1866198192\n",
      "The ID of num2 value is:  1866198192\n"
     ]
    }
   ],
   "source": [
    "#Take one boolean value between 0 - 256.\n",
    "#Assign it to two different variables.\n",
    "\n",
    "num1 = bool(int(input('Enter any boolean value: ')))\n",
    "num2 = bool(int(input('Enter the same boolean value: ')))\n",
    "print('The ID of num1 value is: ',id(num1))\n",
    "print('The ID of num2 value is: ',id(num2))\n",
    "\n",
    "#Check the id of both the variables. It should come same. Check why?\n",
    "\n",
    "# Ans. The id's of both variables are same because of Object Re-usability concept."
   ]
  },
  {
   "cell_type": "code",
   "execution_count": 3,
   "metadata": {},
   "outputs": [
    {
     "name": "stdout",
     "output_type": "stream",
     "text": [
      "Enter 1st boolean value: 12\n",
      "Enter 2nd boolean value: 14\n",
      "2\n",
      "0\n",
      "1\n",
      "1.0\n",
      "0\n",
      "1\n",
      "1\n"
     ]
    }
   ],
   "source": [
    "#Arithmatic Operations on boolean data\n",
    "#Take two different boolean values.\n",
    "#Store them in two different variables.\n",
    "\n",
    "a = bool(int(input('Enter 1st boolean value: ')))\n",
    "b = bool(int(input('Enter 2nd boolean value: ')))\n",
    "\n",
    "#Do below operations on them:-\n",
    "    #Find sum of both values\n",
    "print(a+b)\n",
    "\n",
    "\n",
    "    #Find differce between them\n",
    "\n",
    "print(a-b)\n",
    "\n",
    "    #Find the product of both.\n",
    "\n",
    "print(a*b)\n",
    "\n",
    "    #Find value after dividing first value with second value\n",
    "    \n",
    "print(a/b)\n",
    "    \n",
    "    #Find the remainder after dividing first value with second value\n",
    "    \n",
    "print(a%b)\n",
    "    \n",
    "    #Find the quotient after dividing first value with second value\n",
    "    \n",
    "print(a//b)\n",
    "    \n",
    "    #Find the result of first value to the power of second value.\n",
    "print(a**b)"
   ]
  },
  {
   "cell_type": "code",
   "execution_count": 4,
   "metadata": {},
   "outputs": [
    {
     "name": "stdout",
     "output_type": "stream",
     "text": [
      "Enter 1st boolean value: 12\n",
      "Enter 2nd boolean value: 11\n",
      "False\n",
      "False\n",
      "True\n",
      "True\n"
     ]
    }
   ],
   "source": [
    "#Comparison Operators on boolean values\n",
    "#Take two different boolean values.\n",
    "#Store them in two different variables.\n",
    "\n",
    "a = bool(int(input('Enter 1st boolean value: ')))\n",
    "b = bool(int(input('Enter 2nd boolean value: ')))\n",
    "\n",
    "#Do below operations on them:-\n",
    "    #Compare these two values with below operator:-\n",
    "        #Greater than, '>'\n",
    "    \n",
    "print(a>b)\n",
    "\n",
    "        #less than, '<'\n",
    "print(a<b)\n",
    "\n",
    "        #Greater than or equal to, '>='\n",
    "print(a>=b)\n",
    "\n",
    "        #Less than or equal to, '<='    \n",
    "print(a<=b)\n",
    "\n",
    "#Observe their output(return type should be boolean)"
   ]
  },
  {
   "cell_type": "code",
   "execution_count": 5,
   "metadata": {},
   "outputs": [
    {
     "name": "stdout",
     "output_type": "stream",
     "text": [
      "Enter 1st boolean value: 6\n",
      "Enter 2nd boolean value: 9\n",
      "True\n",
      "False\n"
     ]
    }
   ],
   "source": [
    "#Equality Operator\n",
    "#Take two different boolean values.\n",
    "#Store them in two different variables.\n",
    "\n",
    "a = bool(int(input('Enter 1st boolean value: ')))\n",
    "b = bool(int(input('Enter 2nd boolean value: ')))\n",
    "\n",
    "#Equuate them using equality operator (==, !=)\n",
    "\n",
    "print(a==b)\n",
    "print(a!=b)\n",
    "\n",
    "#Observe the output(return type should be boolean)"
   ]
  },
  {
   "cell_type": "code",
   "execution_count": 16,
   "metadata": {},
   "outputs": [
    {
     "name": "stdout",
     "output_type": "stream",
     "text": [
      "True\n",
      "False\n",
      "False\n",
      "False\n",
      "True\n",
      "True\n",
      "True\n",
      "False\n",
      "False\n",
      "True\n"
     ]
    }
   ],
   "source": [
    "#Logical operators\n",
    "#Observe the output of below code\n",
    "#Cross check the output manually\n",
    "\n",
    "# Ans. As we already know that all the whole numbers except zero are always true. Here in the below code we are applying\n",
    "#      the \"and\" Logical operation according to the \"and\" table.\n",
    "#  Here the code checks the first value and second value both,& if any one value is false then it will return False  \n",
    "#  if first and second both values are true then it returns the second value.\n",
    "print(True and True)        #----------------------------------------->Output is True\n",
    "print(False and True)        #----------------------------------------->Output is False\n",
    "print(True and False)        #----------------------------------------->Output is False\n",
    "print(False and False)       #----------------------------------------->Output is False\n",
    "\n",
    "# Ans. As we already know that all the whole numbers except zero are always true. Here in the below code we are applying\n",
    "#      the \"or\" Logical operation according to the \"or\" table.\n",
    "#  Here the code checks the first value and second value both,& if any one value is True then it will return True  \n",
    "#  if first and second both values are true then it returns the first value as already first itself is true.\n",
    "print(True or True)          #----------------------------------------->Output is True\n",
    "print(False or True)         #----------------------------------------->Output is True\n",
    "print(True or False)         #----------------------------------------->Output is True\n",
    "print(False or False)        #----------------------------------------->Output is False\n",
    "\n",
    "# Ans. As we already know that all the whole numbers except zero are always true. Here in the below code we are applying\n",
    "#      the \"not\" Logical operation according to the \"not\" table.\n",
    "#  Here, in not table if the value is true then it always gives the output as false & \n",
    "#   if the value is false then it always gives the output as true.\n",
    "print(not True)              #----------------------------------------->Output is False\n",
    "print(not False)             #----------------------------------------->Output is True"
   ]
  },
  {
   "cell_type": "code",
   "execution_count": 17,
   "metadata": {},
   "outputs": [
    {
     "name": "stdout",
     "output_type": "stream",
     "text": [
      "True\n",
      "True\n",
      "False\n",
      "-2\n",
      "4\n",
      "0\n"
     ]
    }
   ],
   "source": [
    "#Bitwise Operators\n",
    "#Do below operations on the values provided below:-\n",
    "    #Bitwise and(&) -----------------------------------------> True, True    -------> Output is True\n",
    "    \n",
    "print(True & True)\n",
    "\n",
    "    #Bitwise or(|)  -----------------------------------------> True, False   -------> Output is True\n",
    "\n",
    "print(True | True)\n",
    "\n",
    "    #Bitwise(^)     -----------------------------------------> True, False   -------> Output is True\n",
    "\n",
    "print(True ^ True)  \n",
    "\n",
    "    #Bitwise negation(~) ------------------------------------> True          -------> Output is -2\n",
    "\n",
    "print(~True)\n",
    "\n",
    "    #Bitwise left shift  ------------------------------------> True,2        -------> Output is 4\n",
    "\n",
    "print(True<<2)  \n",
    "\n",
    "    #Bitwise right shift ------------------------------------> True,2        -------> Output is 0\n",
    "\n",
    "print(True>>2)\n",
    "\n",
    "#Cross check the output manually"
   ]
  },
  {
   "cell_type": "code",
   "execution_count": 18,
   "metadata": {},
   "outputs": [
    {
     "name": "stdout",
     "output_type": "stream",
     "text": [
      "True\n",
      "False\n",
      "True\n",
      "False\n"
     ]
    }
   ],
   "source": [
    "#What is the output of expression inside print statement. Cross check before running the program.\n",
    "a = True\n",
    "b = True\n",
    "print(a is b)          #True \n",
    "print(a is not b)      #False\n",
    "#..Here the output follows identity operator as both the values are same but are assigned to different\n",
    "#  variables. Object Re-usability is followed by Boolean values.\n",
    "\n",
    "a = False\n",
    "b = False\n",
    "print(a is b)          #True \n",
    "print(a is not b)      #False\n",
    "#..Here the output follows identity operator as both the values are same but are assigned to different\n",
    "#  variables. Object Re-usability is followed by Boolean values."
   ]
  },
  {
   "cell_type": "code",
   "execution_count": 19,
   "metadata": {},
   "outputs": [
    {
     "name": "stdout",
     "output_type": "stream",
     "text": [
      "True\n",
      "True\n",
      "True\n",
      "True\n",
      "True\n"
     ]
    }
   ],
   "source": [
    "#Membership operation\n",
    "#in, not in are two membership operators and it returns boolean value\n",
    "\n",
    "print(True in [10,10.20,10+20j,'Python', True])\n",
    "print(False in (10,10.20,10+20j,'Python', False))\n",
    "print(True in {1,2,3, True})\n",
    "print(True in {True:100, False:200, True:300})\n",
    "print(False in {True:100, False:200, True:300})\n",
    "\n",
    "# Output :\n",
    "# True\n",
    "# True\n",
    "# True\n",
    "# True\n",
    "# True"
   ]
  },
  {
   "cell_type": "code",
   "execution_count": null,
   "metadata": {},
   "outputs": [],
   "source": []
  }
 ],
 "metadata": {
  "kernelspec": {
   "display_name": "Python 3",
   "language": "python",
   "name": "python3"
  },
  "language_info": {
   "codemirror_mode": {
    "name": "ipython",
    "version": 3
   },
   "file_extension": ".py",
   "mimetype": "text/x-python",
   "name": "python",
   "nbconvert_exporter": "python",
   "pygments_lexer": "ipython3",
   "version": "3.7.6"
  }
 },
 "nbformat": 4,
 "nbformat_minor": 4
}
