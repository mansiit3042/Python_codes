{
 "cells": [
  {
   "cell_type": "code",
   "execution_count": 15,
   "metadata": {},
   "outputs": [
    {
     "name": "stdout",
     "output_type": "stream",
     "text": [
      "The complex value is:  (10+20j)\n",
      "The type of value is:  <class 'complex'>\n",
      "The ID of value is:  55344808\n",
      "Real part:  10.0\n",
      "Imaginery part:  20.0\n"
     ]
    }
   ],
   "source": [
    "#Declare a complex number and store it in a variable. \n",
    "# Case 1: complex value already given.\n",
    "num = 10+20j\n",
    "print('The complex value is: ',num)\n",
    "print('The type of value is: ',type(num))\n",
    "print('The ID of value is: ',id(num))\n",
    "print('Real part: ',num.real)\n",
    "print('Imaginery part: ',num.imag)\n",
    "\n",
    "#Check the type and print the id of the same.\n"
   ]
  },
  {
   "cell_type": "code",
   "execution_count": 18,
   "metadata": {},
   "outputs": [
    {
     "name": "stdout",
     "output_type": "stream",
     "text": [
      "Enter the first value: 5\n",
      "Enter the second value: 4\n",
      "The Complex Value is:  (5+4j)\n",
      "The type of value is:  <class 'complex'>\n",
      "The ID of value is:  55343344\n",
      "Real part:  5.0\n",
      "Imaginery part:  4.0\n"
     ]
    }
   ],
   "source": [
    "#Declare a complex number and store it in a variable. \n",
    "# Case 1: complex value already given.\n",
    "a = complex(input('Enter the first value: '))\n",
    "b = complex(input('Enter the second value: '))\n",
    "c = complex(a,b);\n",
    "print('The Complex Value is: ',c)\n",
    "print('The type of value is: ',type(c))\n",
    "print('The ID of value is: ',id(c))\n",
    "print('Real part: ',c.real)\n",
    "print('Imaginery part: ',c.imag)\n",
    "\n",
    "# Output:\n",
    "# Enter the first value: 5\n",
    "# Enter the second value: 4\n",
    "# The Complex Value is:  (5+4j)\n",
    "# The type of value is:  <class 'complex'>\n",
    "# The ID of value is:  55343344\n",
    "# Real part:  5.0\n",
    "# Imaginery part:  4.0\n"
   ]
  },
  {
   "cell_type": "code",
   "execution_count": 2,
   "metadata": {},
   "outputs": [
    {
     "name": "stdout",
     "output_type": "stream",
     "text": [
      "(19+30j)\n",
      "(1+2j)\n",
      "(-134+284j)\n",
      "(1.1335740072202167+0.014440433212996429j)\n",
      "(212339.88677296715-6625.930379386679j)\n"
     ]
    }
   ],
   "source": [
    "#Arithmatic Operations on complex number\n",
    "#Take two different complex number.\n",
    "#Store them in two different variables.\n",
    "num1 = 10+16j\n",
    "num2 = 9+14j\n",
    "\n",
    "#Do below operations on them:-\n",
    "    #Find sum of both numbers\n",
    "print(num1+num2)\n",
    "\n",
    "    #Find differce between them\n",
    "print(num1-num2)\n",
    "\n",
    "    #Find the product of both numbers.\n",
    "print(num1*num2)   \n",
    "    \n",
    "    #Find value after dividing first num with second number\n",
    "print(num1/num2)\n",
    "    \n",
    "    #Find the result of first num to the power of second number.\n",
    "print(num1**num2)\n",
    "\n",
    "# Output :\n",
    "# (19+30j)\n",
    "# (1+2j)\n",
    "# (-134+284j)\n",
    "# (1.1335740072202167+0.014440433212996429j)\n",
    "# (212339.88677296715-6625.930379386679j)"
   ]
  },
  {
   "cell_type": "code",
   "execution_count": 3,
   "metadata": {},
   "outputs": [
    {
     "ename": "TypeError",
     "evalue": "'>' not supported between instances of 'complex' and 'complex'",
     "output_type": "error",
     "traceback": [
      "\u001b[1;31m---------------------------------------------------------------------------\u001b[0m",
      "\u001b[1;31mTypeError\u001b[0m                                 Traceback (most recent call last)",
      "\u001b[1;32m<ipython-input-3-f969f40882bd>\u001b[0m in \u001b[0;36m<module>\u001b[1;34m\u001b[0m\n\u001b[0;32m      4\u001b[0m \u001b[0mnum1\u001b[0m \u001b[1;33m=\u001b[0m \u001b[1;36m10\u001b[0m\u001b[1;33m+\u001b[0m\u001b[1;36m16j\u001b[0m\u001b[1;33m\u001b[0m\u001b[1;33m\u001b[0m\u001b[0m\n\u001b[0;32m      5\u001b[0m \u001b[0mnum2\u001b[0m \u001b[1;33m=\u001b[0m \u001b[1;36m9\u001b[0m\u001b[1;33m+\u001b[0m\u001b[1;36m14j\u001b[0m\u001b[1;33m\u001b[0m\u001b[1;33m\u001b[0m\u001b[0m\n\u001b[1;32m----> 6\u001b[1;33m \u001b[0mprint\u001b[0m\u001b[1;33m(\u001b[0m\u001b[0mnum1\u001b[0m\u001b[1;33m>\u001b[0m\u001b[0mnum2\u001b[0m\u001b[1;33m)\u001b[0m\u001b[1;33m\u001b[0m\u001b[1;33m\u001b[0m\u001b[0m\n\u001b[0m\u001b[0;32m      7\u001b[0m \u001b[1;33m\u001b[0m\u001b[0m\n",
      "\u001b[1;31mTypeError\u001b[0m: '>' not supported between instances of 'complex' and 'complex'"
     ]
    }
   ],
   "source": [
    "#Comparison Operation not applicable between instance of complex values\n",
    "#Object reusability concept is not applicable on complex number\n",
    "\n",
    "# Comparison operator not applicable on complex numbers\n",
    "num1 = 10+16j\n",
    "num2 = 9+14j\n",
    "print(num1>num2)\n",
    "\n",
    "# Output :\n",
    "# ---------------------------------------------------------------------------\n",
    "# TypeError                                 Traceback (most recent call last)\n",
    "# <ipython-input-3-f969f40882bd> in <module>\n",
    "#       4 num1 = 10+16j\n",
    "#       5 num2 = 9+14j\n",
    "# ----> 6 print(num1>num2)\n",
    "#       7 \n",
    "\n",
    "# TypeError: '>' not supported between instances of 'complex' and 'complex'"
   ]
  },
  {
   "cell_type": "code",
   "execution_count": 4,
   "metadata": {},
   "outputs": [
    {
     "name": "stdout",
     "output_type": "stream",
     "text": [
      "False\n",
      "True\n"
     ]
    }
   ],
   "source": [
    "#Equality Operator\n",
    "#Take two different complex numbers.\n",
    "#Store them in two different variables.\n",
    "num1 = 10+16j\n",
    "num2 = 9+14j\n",
    "\n",
    "#Equuate them using equality operator (==, !=)\n",
    "print(num1==num2)\n",
    "print(num1!=num2)\n",
    "\n",
    "#Observe the output(return type should be boolean)\n",
    "\n",
    "# Output :\n",
    "# False\n",
    "# True\n"
   ]
  },
  {
   "cell_type": "code",
   "execution_count": null,
   "metadata": {},
   "outputs": [],
   "source": [
    "#Logical operators\n",
    "#Observe the output of below code\n",
    "#Cross check the output manually\n",
    "\n",
    "# Ans. As we already know that all the whole numbers except zero are always true. Here in the below code we are applying\n",
    "#      the \"and\" Logical operation according to the \"and\" table.\n",
    "#  Here the code checks the first value and second value both,& if any one value is false then it will return False  \n",
    "#  if first and second both values are true then it returns the second value.\n",
    "\n",
    "print(10+20j and 20+30j)    #20+30j    #----------------------------------------->Output is 20+30j\n",
    "# Here the code checks the first value and second value both as both are true so it takes the second value.\n",
    "\n",
    "print(0+0j and 20+30j)      #0+0j    #----------------------------------------->Output is 0j\n",
    "# Here the code checks the first value as false so it takes the first value (as false & true \n",
    "# returns False according to \"and\" table.)\n",
    "\n",
    "print(20+30j and 0+0j)      #0+0j   #----------------------------------------->Output is 0j\n",
    "# Here the code checks the first value as true then it checks the second value as false so it takes the second value (as true & false \n",
    "# returns False according to \"and\" table.)\n",
    "\n",
    "print(0+0j and 0+0j)        #0+0j   #----------------------------------------->Output is 0j\n",
    "# Here the code checks the first value as both are False so it takes the first value."
   ]
  },
  {
   "cell_type": "code",
   "execution_count": null,
   "metadata": {},
   "outputs": [],
   "source": [
    "#Logical operators\n",
    "#Observe the output of below code\n",
    "#Cross check the output manually\n",
    "\n",
    "# Ans. As we already know that all the whole numbers except zero are always true. Here in the below code we are applying\n",
    "#      the \"or\" Logical operation according to the \"or\" table.\n",
    "#  Here the code checks the first value and second value both,& if any one value is True then it will return True  \n",
    "#  if first and second both values are true then it returns the first value as already first itself is true.\n",
    "\n",
    "print(10+20j or 20+30j)     #10+20j   #----------------------------------------->Output is 10+20j\n",
    "# Here the code checks the first value as both are true so it takes the first value.\n",
    "\n",
    "print(0+0j or 20+30j)       #20+30j   #----------------------------------------->Output is 20+30j\n",
    "# Here the code checks the first value as false then it checks second value as true so it takes the second value (as false & true \n",
    "# returns true according to \"or\" table.)\n",
    "\n",
    "print(20+30j or 0+0j)       #20+30j  #----------------------------------------->Output is 20+30j\n",
    "# Here the code checks the first value as true so it takes the first value (as false & true \n",
    "# returns true according to \"or\" table.)\n",
    "\n",
    "print(0+0j or 0+0j)         #0+0j   #----------------------------------------->Output is 0j\n",
    "# Here the code checks the first value and second value both as both are False so it takes the second value."
   ]
  },
  {
   "cell_type": "code",
   "execution_count": 5,
   "metadata": {},
   "outputs": [
    {
     "name": "stdout",
     "output_type": "stream",
     "text": [
      "False\n",
      "True\n"
     ]
    }
   ],
   "source": [
    "#Logical operators\n",
    "#Observe the output of below code\n",
    "#Cross check the output manually\n",
    "\n",
    "# Ans. As we already know that all the whole numbers except zero are always true. Here in the below code we are applying\n",
    "#      the \"not\" Logical operation according to the \"not\" table.\n",
    "#  Here, in not table if the value is true then it always gives the output as false & \n",
    "#   if the value is false then it always gives the output as true.\n",
    "\n",
    "print(not 10+20j)           #False   #----------------------------------------->Output is False\n",
    "# ..Here we can see that 10+20j is True but according to \"not\" operation, the output will be false.\n",
    "\n",
    "print(not 0+0j)             #True   #----------------------------------------->Output is True\n",
    "# ..Here we can see that 0+0j is false but according to \"not\" operation, the output will be True."
   ]
  },
  {
   "cell_type": "code",
   "execution_count": 6,
   "metadata": {},
   "outputs": [
    {
     "name": "stdout",
     "output_type": "stream",
     "text": [
      "False\n",
      "True\n"
     ]
    }
   ],
   "source": [
    "#What is the output of expression inside print statement. Cross check before running the program.\n",
    "a = 10+20j\n",
    "b = 10+20j\n",
    "print(a is b)       #False   #True or False?\n",
    "#..Here the output will be \"False\" because of the identity operator as both the values are same but are assigned to different\n",
    "#  variables and id's. Object Re-usability is not followed by Complex numbers.\n",
    "\n",
    "print(a is not b)   #True   #True or False?\n",
    "#..Here the output will be \"True\" because of the identity operator as both the values are same but are assigned to different\n",
    "#  variables and id's. Object Re-usability is not followed by Complex numbers.\n"
   ]
  },
  {
   "cell_type": "code",
   "execution_count": 7,
   "metadata": {},
   "outputs": [
    {
     "name": "stdout",
     "output_type": "stream",
     "text": [
      "True\n",
      "True\n",
      "True\n",
      "True\n",
      "True\n",
      "True\n"
     ]
    }
   ],
   "source": [
    "#Membership operation\n",
    "#in, not in are two membership operators and it returns boolean value\n",
    "\n",
    "print('2.7' in 'Python2.7.8')                      #True\n",
    "#..Here in this code membership operation is followed as \"2.7\" is included as it is in the given code \"Python2.7.8\".\n",
    "#  Here the output will be a boolean value i.e. \"True\".\n",
    "\n",
    "print(10+20j in [10,10.20,10+20j,'Python'])        #True\n",
    "#..Here in this code membership operation is followed as \"10+20j\" is included as it is in the given list \"[10,10.20,10+20j,'Python']\".\n",
    "#  Here the output will be a boolean value i.e. \"True\".\n",
    "\n",
    "print(10+20j in (10,10.20,10+20j,'Python'))        #True\n",
    "#..Here in this code membership operation is followed as \"10+20j\" is included as it is in the given code \"(10,10.20,10+20j,'Python')\".\n",
    "#  Here the output will be a boolean value i.e. \"True\".\n",
    "\n",
    "print(30+40j in {1,20.30,30+40j})                  #True\n",
    "# Here in this code membership operation is followed as \"30+40j\" is included as it is in the given set \"{1,20.30,30+40j}\".\n",
    "#  Here the output will be a boolean value i.e. \"True\".\n",
    "\n",
    "print(30+40j in {1:100, 2.3:200, 30+40j:300})      #True\n",
    "# Here in this code membership operation is followed as \"30+40j\" is included as it is in the given code \"{1,20.30,30+40j}\".\n",
    "#  Here the output will be a boolean value i.e. \"True\".\n",
    "\n",
    "print(10 in range(20))                             #True\n",
    "#..Here in this code membership operation is followed as \"10\" is included within the range provided range(0, 20).\n",
    "#  Here the output will be a boolean value i.e. \"True\"."
   ]
  },
  {
   "cell_type": "code",
   "execution_count": null,
   "metadata": {},
   "outputs": [],
   "source": []
  },
  {
   "cell_type": "code",
   "execution_count": null,
   "metadata": {},
   "outputs": [],
   "source": []
  },
  {
   "cell_type": "code",
   "execution_count": null,
   "metadata": {},
   "outputs": [],
   "source": []
  },
  {
   "cell_type": "code",
   "execution_count": null,
   "metadata": {},
   "outputs": [],
   "source": []
  },
  {
   "cell_type": "code",
   "execution_count": null,
   "metadata": {},
   "outputs": [],
   "source": []
  }
 ],
 "metadata": {
  "kernelspec": {
   "display_name": "Python 3",
   "language": "python",
   "name": "python3"
  },
  "language_info": {
   "codemirror_mode": {
    "name": "ipython",
    "version": 3
   },
   "file_extension": ".py",
   "mimetype": "text/x-python",
   "name": "python",
   "nbconvert_exporter": "python",
   "pygments_lexer": "ipython3",
   "version": "3.7.6"
  }
 },
 "nbformat": 4,
 "nbformat_minor": 4
}
